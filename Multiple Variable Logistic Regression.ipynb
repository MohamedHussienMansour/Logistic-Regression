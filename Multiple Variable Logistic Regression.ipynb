{
 "cells": [
  {
   "cell_type": "markdown",
   "id": "4f6894db",
   "metadata": {},
   "source": [
    "## Import Libraries"
   ]
  },
  {
   "cell_type": "code",
   "execution_count": 5,
   "id": "2c211c9c",
   "metadata": {},
   "outputs": [],
   "source": [
    "import numpy as np\n",
    "import pandas as pd\n",
    "import matplotlib.pyplot as plt\n",
    "import seaborn as sns"
   ]
  },
  {
   "cell_type": "markdown",
   "id": "9fa2a4cc",
   "metadata": {},
   "source": [
    "## Importing Data of Breast Cancer"
   ]
  },
  {
   "cell_type": "code",
   "execution_count": 6,
   "id": "b7e59a4c",
   "metadata": {},
   "outputs": [],
   "source": [
    "df=pd.read_csv(\"data (1).csv\")\n",
    "\n"
   ]
  },
  {
   "cell_type": "code",
   "execution_count": 30,
   "id": "b6fda5c5",
   "metadata": {},
   "outputs": [
    {
     "data": {
      "text/html": [
       "<div>\n",
       "<style scoped>\n",
       "    .dataframe tbody tr th:only-of-type {\n",
       "        vertical-align: middle;\n",
       "    }\n",
       "\n",
       "    .dataframe tbody tr th {\n",
       "        vertical-align: top;\n",
       "    }\n",
       "\n",
       "    .dataframe thead th {\n",
       "        text-align: right;\n",
       "    }\n",
       "</style>\n",
       "<table border=\"1\" class=\"dataframe\">\n",
       "  <thead>\n",
       "    <tr style=\"text-align: right;\">\n",
       "      <th></th>\n",
       "      <th>id</th>\n",
       "      <th>diagnosis</th>\n",
       "      <th>radius_mean</th>\n",
       "      <th>texture_mean</th>\n",
       "      <th>perimeter_mean</th>\n",
       "      <th>area_mean</th>\n",
       "      <th>smoothness_mean</th>\n",
       "      <th>compactness_mean</th>\n",
       "      <th>concavity_mean</th>\n",
       "      <th>concave points_mean</th>\n",
       "      <th>...</th>\n",
       "      <th>texture_worst</th>\n",
       "      <th>perimeter_worst</th>\n",
       "      <th>area_worst</th>\n",
       "      <th>smoothness_worst</th>\n",
       "      <th>compactness_worst</th>\n",
       "      <th>concavity_worst</th>\n",
       "      <th>concave points_worst</th>\n",
       "      <th>symmetry_worst</th>\n",
       "      <th>fractal_dimension_worst</th>\n",
       "      <th>Unnamed: 32</th>\n",
       "    </tr>\n",
       "  </thead>\n",
       "  <tbody>\n",
       "    <tr>\n",
       "      <th>0</th>\n",
       "      <td>842302</td>\n",
       "      <td>1</td>\n",
       "      <td>17.99</td>\n",
       "      <td>10.38</td>\n",
       "      <td>122.80</td>\n",
       "      <td>1001.0</td>\n",
       "      <td>0.11840</td>\n",
       "      <td>0.27760</td>\n",
       "      <td>0.3001</td>\n",
       "      <td>0.14710</td>\n",
       "      <td>...</td>\n",
       "      <td>17.33</td>\n",
       "      <td>184.60</td>\n",
       "      <td>2019.0</td>\n",
       "      <td>0.1622</td>\n",
       "      <td>0.6656</td>\n",
       "      <td>0.7119</td>\n",
       "      <td>0.2654</td>\n",
       "      <td>0.4601</td>\n",
       "      <td>0.11890</td>\n",
       "      <td>NaN</td>\n",
       "    </tr>\n",
       "    <tr>\n",
       "      <th>1</th>\n",
       "      <td>842517</td>\n",
       "      <td>1</td>\n",
       "      <td>20.57</td>\n",
       "      <td>17.77</td>\n",
       "      <td>132.90</td>\n",
       "      <td>1326.0</td>\n",
       "      <td>0.08474</td>\n",
       "      <td>0.07864</td>\n",
       "      <td>0.0869</td>\n",
       "      <td>0.07017</td>\n",
       "      <td>...</td>\n",
       "      <td>23.41</td>\n",
       "      <td>158.80</td>\n",
       "      <td>1956.0</td>\n",
       "      <td>0.1238</td>\n",
       "      <td>0.1866</td>\n",
       "      <td>0.2416</td>\n",
       "      <td>0.1860</td>\n",
       "      <td>0.2750</td>\n",
       "      <td>0.08902</td>\n",
       "      <td>NaN</td>\n",
       "    </tr>\n",
       "    <tr>\n",
       "      <th>2</th>\n",
       "      <td>84300903</td>\n",
       "      <td>1</td>\n",
       "      <td>19.69</td>\n",
       "      <td>21.25</td>\n",
       "      <td>130.00</td>\n",
       "      <td>1203.0</td>\n",
       "      <td>0.10960</td>\n",
       "      <td>0.15990</td>\n",
       "      <td>0.1974</td>\n",
       "      <td>0.12790</td>\n",
       "      <td>...</td>\n",
       "      <td>25.53</td>\n",
       "      <td>152.50</td>\n",
       "      <td>1709.0</td>\n",
       "      <td>0.1444</td>\n",
       "      <td>0.4245</td>\n",
       "      <td>0.4504</td>\n",
       "      <td>0.2430</td>\n",
       "      <td>0.3613</td>\n",
       "      <td>0.08758</td>\n",
       "      <td>NaN</td>\n",
       "    </tr>\n",
       "    <tr>\n",
       "      <th>3</th>\n",
       "      <td>84348301</td>\n",
       "      <td>1</td>\n",
       "      <td>11.42</td>\n",
       "      <td>20.38</td>\n",
       "      <td>77.58</td>\n",
       "      <td>386.1</td>\n",
       "      <td>0.14250</td>\n",
       "      <td>0.28390</td>\n",
       "      <td>0.2414</td>\n",
       "      <td>0.10520</td>\n",
       "      <td>...</td>\n",
       "      <td>26.50</td>\n",
       "      <td>98.87</td>\n",
       "      <td>567.7</td>\n",
       "      <td>0.2098</td>\n",
       "      <td>0.8663</td>\n",
       "      <td>0.6869</td>\n",
       "      <td>0.2575</td>\n",
       "      <td>0.6638</td>\n",
       "      <td>0.17300</td>\n",
       "      <td>NaN</td>\n",
       "    </tr>\n",
       "    <tr>\n",
       "      <th>4</th>\n",
       "      <td>84358402</td>\n",
       "      <td>1</td>\n",
       "      <td>20.29</td>\n",
       "      <td>14.34</td>\n",
       "      <td>135.10</td>\n",
       "      <td>1297.0</td>\n",
       "      <td>0.10030</td>\n",
       "      <td>0.13280</td>\n",
       "      <td>0.1980</td>\n",
       "      <td>0.10430</td>\n",
       "      <td>...</td>\n",
       "      <td>16.67</td>\n",
       "      <td>152.20</td>\n",
       "      <td>1575.0</td>\n",
       "      <td>0.1374</td>\n",
       "      <td>0.2050</td>\n",
       "      <td>0.4000</td>\n",
       "      <td>0.1625</td>\n",
       "      <td>0.2364</td>\n",
       "      <td>0.07678</td>\n",
       "      <td>NaN</td>\n",
       "    </tr>\n",
       "  </tbody>\n",
       "</table>\n",
       "<p>5 rows × 33 columns</p>\n",
       "</div>"
      ],
      "text/plain": [
       "         id  diagnosis  radius_mean  texture_mean  perimeter_mean  area_mean  \\\n",
       "0    842302          1        17.99         10.38          122.80     1001.0   \n",
       "1    842517          1        20.57         17.77          132.90     1326.0   \n",
       "2  84300903          1        19.69         21.25          130.00     1203.0   \n",
       "3  84348301          1        11.42         20.38           77.58      386.1   \n",
       "4  84358402          1        20.29         14.34          135.10     1297.0   \n",
       "\n",
       "   smoothness_mean  compactness_mean  concavity_mean  concave points_mean  \\\n",
       "0          0.11840           0.27760          0.3001              0.14710   \n",
       "1          0.08474           0.07864          0.0869              0.07017   \n",
       "2          0.10960           0.15990          0.1974              0.12790   \n",
       "3          0.14250           0.28390          0.2414              0.10520   \n",
       "4          0.10030           0.13280          0.1980              0.10430   \n",
       "\n",
       "   ...  texture_worst  perimeter_worst  area_worst  smoothness_worst  \\\n",
       "0  ...          17.33           184.60      2019.0            0.1622   \n",
       "1  ...          23.41           158.80      1956.0            0.1238   \n",
       "2  ...          25.53           152.50      1709.0            0.1444   \n",
       "3  ...          26.50            98.87       567.7            0.2098   \n",
       "4  ...          16.67           152.20      1575.0            0.1374   \n",
       "\n",
       "   compactness_worst  concavity_worst  concave points_worst  symmetry_worst  \\\n",
       "0             0.6656           0.7119                0.2654          0.4601   \n",
       "1             0.1866           0.2416                0.1860          0.2750   \n",
       "2             0.4245           0.4504                0.2430          0.3613   \n",
       "3             0.8663           0.6869                0.2575          0.6638   \n",
       "4             0.2050           0.4000                0.1625          0.2364   \n",
       "\n",
       "   fractal_dimension_worst  Unnamed: 32  \n",
       "0                  0.11890          NaN  \n",
       "1                  0.08902          NaN  \n",
       "2                  0.08758          NaN  \n",
       "3                  0.17300          NaN  \n",
       "4                  0.07678          NaN  \n",
       "\n",
       "[5 rows x 33 columns]"
      ]
     },
     "execution_count": 30,
     "metadata": {},
     "output_type": "execute_result"
    }
   ],
   "source": [
    "df.head()"
   ]
  },
  {
   "cell_type": "markdown",
   "id": "e08418c5",
   "metadata": {},
   "source": [
    "# Data Preproccing"
   ]
  },
  {
   "cell_type": "code",
   "execution_count": 7,
   "id": "62015e91",
   "metadata": {},
   "outputs": [
    {
     "name": "stdout",
     "output_type": "stream",
     "text": [
      "<class 'pandas.core.frame.DataFrame'>\n",
      "RangeIndex: 569 entries, 0 to 568\n",
      "Data columns (total 33 columns):\n",
      " #   Column                   Non-Null Count  Dtype  \n",
      "---  ------                   --------------  -----  \n",
      " 0   id                       569 non-null    int64  \n",
      " 1   diagnosis                569 non-null    object \n",
      " 2   radius_mean              569 non-null    float64\n",
      " 3   texture_mean             569 non-null    float64\n",
      " 4   perimeter_mean           569 non-null    float64\n",
      " 5   area_mean                569 non-null    float64\n",
      " 6   smoothness_mean          569 non-null    float64\n",
      " 7   compactness_mean         569 non-null    float64\n",
      " 8   concavity_mean           569 non-null    float64\n",
      " 9   concave points_mean      569 non-null    float64\n",
      " 10  symmetry_mean            569 non-null    float64\n",
      " 11  fractal_dimension_mean   569 non-null    float64\n",
      " 12  radius_se                569 non-null    float64\n",
      " 13  texture_se               569 non-null    float64\n",
      " 14  perimeter_se             569 non-null    float64\n",
      " 15  area_se                  569 non-null    float64\n",
      " 16  smoothness_se            569 non-null    float64\n",
      " 17  compactness_se           569 non-null    float64\n",
      " 18  concavity_se             569 non-null    float64\n",
      " 19  concave points_se        569 non-null    float64\n",
      " 20  symmetry_se              569 non-null    float64\n",
      " 21  fractal_dimension_se     569 non-null    float64\n",
      " 22  radius_worst             569 non-null    float64\n",
      " 23  texture_worst            569 non-null    float64\n",
      " 24  perimeter_worst          569 non-null    float64\n",
      " 25  area_worst               569 non-null    float64\n",
      " 26  smoothness_worst         569 non-null    float64\n",
      " 27  compactness_worst        569 non-null    float64\n",
      " 28  concavity_worst          569 non-null    float64\n",
      " 29  concave points_worst     569 non-null    float64\n",
      " 30  symmetry_worst           569 non-null    float64\n",
      " 31  fractal_dimension_worst  569 non-null    float64\n",
      " 32  Unnamed: 32              0 non-null      float64\n",
      "dtypes: float64(31), int64(1), object(1)\n",
      "memory usage: 146.8+ KB\n"
     ]
    }
   ],
   "source": [
    "df.info()"
   ]
  },
  {
   "cell_type": "markdown",
   "id": "0f37166d",
   "metadata": {},
   "source": [
    "## Replacing the output from letters to numbers to enter it to the model"
   ]
  },
  {
   "cell_type": "code",
   "execution_count": 8,
   "id": "d005bfe2",
   "metadata": {},
   "outputs": [
    {
     "data": {
      "text/plain": [
       "dtype('int64')"
      ]
     },
     "execution_count": 8,
     "metadata": {},
     "output_type": "execute_result"
    }
   ],
   "source": [
    "df.diagnosis.replace(\"M\",1,inplace=True)\n",
    "df.diagnosis.replace(\"B\",0,inplace=True)\n",
    "\n",
    "df.diagnosis.dtype"
   ]
  },
  {
   "cell_type": "code",
   "execution_count": null,
   "id": "2fda85b5",
   "metadata": {},
   "outputs": [],
   "source": []
  },
  {
   "cell_type": "code",
   "execution_count": 9,
   "id": "7a75961b",
   "metadata": {},
   "outputs": [
    {
     "data": {
      "text/plain": [
       "id                           0\n",
       "diagnosis                    0\n",
       "radius_mean                  0\n",
       "texture_mean                 0\n",
       "perimeter_mean               0\n",
       "area_mean                    0\n",
       "smoothness_mean              0\n",
       "compactness_mean             0\n",
       "concavity_mean               0\n",
       "concave points_mean          0\n",
       "symmetry_mean                0\n",
       "fractal_dimension_mean       0\n",
       "radius_se                    0\n",
       "texture_se                   0\n",
       "perimeter_se                 0\n",
       "area_se                      0\n",
       "smoothness_se                0\n",
       "compactness_se               0\n",
       "concavity_se                 0\n",
       "concave points_se            0\n",
       "symmetry_se                  0\n",
       "fractal_dimension_se         0\n",
       "radius_worst                 0\n",
       "texture_worst                0\n",
       "perimeter_worst              0\n",
       "area_worst                   0\n",
       "smoothness_worst             0\n",
       "compactness_worst            0\n",
       "concavity_worst              0\n",
       "concave points_worst         0\n",
       "symmetry_worst               0\n",
       "fractal_dimension_worst      0\n",
       "Unnamed: 32                569\n",
       "dtype: int64"
      ]
     },
     "execution_count": 9,
     "metadata": {},
     "output_type": "execute_result"
    }
   ],
   "source": [
    "df.isna().sum()"
   ]
  },
  {
   "cell_type": "code",
   "execution_count": 10,
   "id": "fcb2eaba",
   "metadata": {},
   "outputs": [
    {
     "data": {
      "text/plain": [
       "Text(0, 0.5, 'Begign or malignant')"
      ]
     },
     "execution_count": 10,
     "metadata": {},
     "output_type": "execute_result"
    },
    {
     "data": {
      "image/png": "[encoded data removed]",
      "text/plain": [
       "<Figure size 640x480 with 1 Axes>"
      ]
     },
     "metadata": {},
     "output_type": "display_data"
    }
   ],
   "source": [
    "plt.scatter(x=df[\"radius_mean\"],y=df[\"diagnosis\"],marker=\"x\",c='r')\n",
    "\n",
    "plt.title(\"Begign or malignant VS the Tummer mean radius\")\n",
    "plt.xlabel(\"Tummer radius\")\n",
    "plt.ylabel(\"Begign or malignant\")"
   ]
  },
  {
   "cell_type": "markdown",
   "id": "a589199f",
   "metadata": {},
   "source": [
    "# Machine Learning Model for Classification"
   ]
  },
  {
   "cell_type": "code",
   "execution_count": 38,
   "id": "7068d803",
   "metadata": {},
   "outputs": [],
   "source": [
    "def linear_Model(X_train,W,b=0):\n",
    "#     f=np.zeros(X_train.shape[0])\n",
    "#     for j in range(X_train.shape[1]):\n",
    "        \n",
    "#         f+=X_train[:,j]*W[j]\n",
    "#     f+=b\n",
    "#     return f\n",
    "    return np.dot(X_train,W)+b"
   ]
  },
  {
   "cell_type": "code",
   "execution_count": 39,
   "id": "ffdde4aa",
   "metadata": {},
   "outputs": [],
   "source": [
    "def Sigimod_func(X_train,W,b):\n",
    "    return 1/(1+np.exp(-linear_Model(X_train,W,b)))"
   ]
  },
  {
   "cell_type": "markdown",
   "id": "8ad0ab58",
   "metadata": {},
   "source": [
    "## feature Scaling by dividing maximum number"
   ]
  },
  {
   "cell_type": "code",
   "execution_count": 59,
   "id": "b603e255",
   "metadata": {},
   "outputs": [],
   "source": [
    "def Feature_Scaling_Max(X):\n",
    "    for i in range(X.shape[1]):\n",
    "        X.iloc[:,i]/=X.iloc[:,i].max()\n",
    "    return X"
   ]
  },
  {
   "cell_type": "markdown",
   "id": "9194e2b2",
   "metadata": {},
   "source": [
    "## Spliting data into Train and test set "
   ]
  },
  {
   "cell_type": "code",
   "execution_count": 143,
   "id": "130453ae",
   "metadata": {},
   "outputs": [],
   "source": [
    "X=df[[\"radius_mean\",\"texture_mean\",\"smoothness_mean\"]]\n",
    "\n",
    "X=Feature_Scaling(X)\n",
    "\n",
    "Y=df.diagnosis\n",
    "X_train=X.iloc[:int(0.7*len(X)),:]\n",
    "Y_train=df.diagnosis[:int(0.7*len(X))]\n",
    "X_test=X.iloc[int(0.7*len(X)):,:].reset_index().iloc[:,1:]\n",
    "Y_test=df.diagnosis[int(0.7*len(X)):].reset_index().diagnosis\n",
    "# X_train=np.arange(-10,10)\n",
    "# Y_train=np.array([0,0,0,1,0,0,1,0,0,0,1,1,1,1,0,1,1,1,1,0])\n"
   ]
  },
  {
   "cell_type": "code",
   "execution_count": null,
   "id": "6ec99dab",
   "metadata": {},
   "outputs": [],
   "source": []
  },
  {
   "cell_type": "markdown",
   "id": "b1a6443e",
   "metadata": {},
   "source": [
    "### inzilaize random paramters"
   ]
  },
  {
   "cell_type": "code",
   "execution_count": 144,
   "id": "8c566439",
   "metadata": {},
   "outputs": [],
   "source": [
    "W=np.array([0.007,0.003,0.001])\n",
    "b=0"
   ]
  },
  {
   "cell_type": "markdown",
   "id": "da71c32b",
   "metadata": {},
   "source": [
    "## Ploting X with Y with probability function of output in one on it's projection"
   ]
  },
  {
   "cell_type": "code",
   "execution_count": 171,
   "id": "42a1c6d3",
   "metadata": {},
   "outputs": [
    {
     "data": {
      "image/png": "[encoded data removed]",
      "text/plain": [
       "<Figure size 640x480 with 1 Axes>"
      ]
     },
     "metadata": {},
     "output_type": "display_data"
    }
   ],
   "source": [
    "\n",
    "def plot_prob_func(X,Y,W,b,order_feature):\n",
    "    plt.plot(X.iloc[:,order_feature-1],Sigimod_func(X.iloc[:,order_feature-1],W[order_feature],b))\n",
    "    plt.scatter(X.iloc[:,order_feature-1],Y,marker=\"x\",c='r')\n",
    "    plt.title(\"Begign or malignant VS the Tummer mean radius\")\n",
    "    plt.xlabel(\"Tummer radius\")\n",
    "    plt.ylabel(\"Begign or malignant\")\n",
    "plot_prob_func(X_train,Y_train,W,b,2)"
   ]
  },
  {
   "cell_type": "code",
   "execution_count": null,
   "id": "2230a226",
   "metadata": {},
   "outputs": [],
   "source": [
    "Y_train"
   ]
  },
  {
   "cell_type": "code",
   "execution_count": 146,
   "id": "6509a5a7",
   "metadata": {},
   "outputs": [],
   "source": [
    "def Compute_Cost(X_train,Y_train,W,b):\n",
    "    m=X_train.shape[0]\n",
    "#     Error=0\n",
    "#     for i in range(m):\n",
    "#         Error-=Y_train[i]*np.log(Sigimod_func(X_train,W,b)[i])+(1-Y_train[i])*np.log(1-Sigimod_func(X_train,W,b)[i])\n",
    "#     return Error/(m)\n",
    "        \n",
    "    return (-1/(m))*np.sum(Y_train*np.log(Sigimod_func(X_train,W,b))+(1-Y_train)*np.log(1-Sigimod_func(X_train,W,b)))"
   ]
  },
  {
   "cell_type": "code",
   "execution_count": 147,
   "id": "99dcdee0",
   "metadata": {},
   "outputs": [
    {
     "data": {
      "text/plain": [
       "0.6931041852244716"
      ]
     },
     "execution_count": 147,
     "metadata": {},
     "output_type": "execute_result"
    }
   ],
   "source": [
    "Compute_Cost(X_train,Y_train,W,b)"
   ]
  },
  {
   "cell_type": "code",
   "execution_count": 148,
   "id": "ed68290f",
   "metadata": {},
   "outputs": [],
   "source": [
    "def gradient(X_train,Y_train,W,b):\n",
    "    m=X_train.shape[0]\n",
    "#     dj_dw,dj_db=0,0\n",
    "\n",
    "#     for i in range(m):\n",
    "#         dj_dw+=(Y_train[i]-Sigimod_func(X_train[i],W,b))*X_train[i]*(-1)\n",
    "#         dj_db+=(Y_train[i]-Sigimod_func(X_train[i],W,b))*(-1)\n",
    "#     return dj_dw/m,dj_db/m\n",
    "    dj_db=(1/m)*np.sum((Y_train-Sigimod_func(X_train,W,b))*(-1))\n",
    "    dj_dw=(1/m)*np.sum(np.dot(Sigimod_func(X_train,W,b)-Y_train,X_train))\n",
    "    return dj_dw,dj_db"
   ]
  },
  {
   "cell_type": "markdown",
   "id": "bac34d50",
   "metadata": {},
   "source": [
    "## Graph the Cost function with W to try get the best w can i start with"
   ]
  },
  {
   "cell_type": "code",
   "execution_count": 149,
   "id": "5e484a25",
   "metadata": {},
   "outputs": [
    {
     "data": {
      "image/png": "[encoded data removed]",
      "text/plain": [
       "<Figure size 640x480 with 1 Axes>"
      ]
     },
     "metadata": {},
     "output_type": "display_data"
    }
   ],
   "source": [
    "def plot_Cost_W(X_train,Y_train,b,W,order_feature=1,W_list=np.arange(-250,250)/1000):\n",
    "\n",
    "    cost_list=[]\n",
    "    for i in range(len(W_list)):\n",
    "        W[order_feature-1]=W_list[i]\n",
    "        cost_list.append(Compute_Cost(X_train,Y_train,W,b))\n",
    "    plt.plot(W_list,cost_list)\n",
    "    plt.title(\"Cost Function verses weight graph \")\n",
    "    plt.xlabel(\"Weight\")\n",
    "    plt.ylabel(\"Cost\")\n",
    "    plt.show()\n",
    "    \n",
    "\n",
    "plot_Cost_W(X_train,Y_train,b,W,3)"
   ]
  },
  {
   "cell_type": "markdown",
   "id": "9a3b2a67",
   "metadata": {},
   "source": [
    "## The Same with b"
   ]
  },
  {
   "cell_type": "code",
   "execution_count": 150,
   "id": "e9764715",
   "metadata": {},
   "outputs": [
    {
     "data": {
      "image/png": "[encoded data removed]",
      "text/plain": [
       "<Figure size 640x480 with 1 Axes>"
      ]
     },
     "metadata": {},
     "output_type": "display_data"
    }
   ],
   "source": [
    "def plot_Cost_B(X_train,Y_train,W,B_list=np.arange(-20,30)):\n",
    "\n",
    "    cost_list=[]\n",
    "    for i in range(len(B_list)):\n",
    "        cost_list.append(Compute_Cost(X_train,Y_train,W,B_list[i]))\n",
    "    plt.plot(B_list,cost_list)\n",
    "    plt.title(\"Cost Function verses bais graph \")\n",
    "    plt.xlabel(\"bais\")\n",
    "    plt.ylabel(\"Cost\")\n",
    "    plt.show()\n",
    "plot_Cost_B(X_train,Y_train,W,B_list=np.arange(-5,5))"
   ]
  },
  {
   "cell_type": "markdown",
   "id": "b28961bc",
   "metadata": {},
   "source": [
    "## Predictive function to predict is tumer Begign or malignant"
   ]
  },
  {
   "cell_type": "code",
   "execution_count": 151,
   "id": "634b0a0b",
   "metadata": {},
   "outputs": [],
   "source": [
    "def Predictive_func(X,W,b):\n",
    "    Predictions=np.zeros(X.shape[0])\n",
    "    for i in range(X.shape[0]):\n",
    "        if (Sigimod_func(X,W,b)[i] >=0.5):\n",
    "            Predictions[i]=1\n",
    "        \n",
    "    \n",
    "#     Predictions[Sigimod_func(X,W,b) >=0.5]=1\n",
    "    return  Predictions"
   ]
  },
  {
   "cell_type": "code",
   "execution_count": 152,
   "id": "67409097",
   "metadata": {},
   "outputs": [],
   "source": [
    "def Confusion_matrix(Y,Predictions):\n",
    "    Positive_True=0\n",
    "    negative_True=0\n",
    "    Positive_False=0\n",
    "    negative_False=0\n",
    "    for i in range(len(Y)):\n",
    "        if Y[i]==1 and Predictions[i]==1:\n",
    "            Positive_True+=1\n",
    "        elif Y[i]==1 and Predictions[i]==0:\n",
    "            negative_True+=1\n",
    "        elif Y[i]==0 and Predictions[i]==1:\n",
    "            Positive_False+=1\n",
    "        else:\n",
    "            negative_False+=1\n",
    "#     Recall=Positive_True/(negative_False+Positive_True)\n",
    "#     Precision=Positive_True/(Positive_True+Positive_False)\n",
    "#     F1_Score=2*(Precision*Recall)/(Recall+Precision)\n",
    "    Accuracy=(Positive_True+negative_False)*100/(Positive_True+negative_True+Positive_False+negative_False)\n",
    "    return Accuracy"
   ]
  },
  {
   "cell_type": "code",
   "execution_count": 153,
   "id": "e5332ed8",
   "metadata": {},
   "outputs": [],
   "source": [
    "def train_accuracy(Y_train,X_train,W,b):\n",
    "    return Confusion_matrix(Y_train,Predictive_func(X_train,W,b))"
   ]
  },
  {
   "cell_type": "code",
   "execution_count": 154,
   "id": "590f4f3c",
   "metadata": {},
   "outputs": [],
   "source": [
    "def test_accuracy(Y_test,X_test,W,b):\n",
    "    return Confusion_matrix(Y_test,Predictive_func(X_test,W,b))"
   ]
  },
  {
   "cell_type": "code",
   "execution_count": 160,
   "id": "91f9e4af",
   "metadata": {},
   "outputs": [],
   "source": [
    "\n",
    "def gradient_desent(X_train,Y_train,W,b,Alpha=0.1,iterations=1000):\n",
    "    cost_list=[Compute_Cost(X_train,Y_train,W,b)]\n",
    "    W_list=[W]\n",
    "    j=0\n",
    "    for i in range(iterations):\n",
    "        \n",
    "        dj_dw,dj_db=gradient(X_train,Y_train,W,b)\n",
    "        \n",
    "        W-=Alpha*dj_dw\n",
    "        b-=Alpha*dj_db\n",
    "        cost_list.append(Compute_Cost(X_train,Y_train,W,b))\n",
    "        W_list.append(W)\n",
    "        \n",
    "        if (i%(iterations/10)==0 or i==iterations-1):\n",
    "            j+=1\n",
    "            print(\"The Cost funtion will equal \",Compute_Cost(X_train,Y_train,W,b))\n",
    "            print(\"the W  have reached equal \",W)\n",
    "            \n",
    "            if (cost_list[j]<cost_list[j-1]):\n",
    "                print(\"the cost function is decrease\")\n",
    "            else:\n",
    "                print(\"the cost function is increase ya 5ayb\")\n",
    "            \n",
    "            print(\"The Accuracy of the model reach to \",train_accuracy(Y_train,X_train,W,b))\n",
    "    \n",
    "    \n",
    "    \n",
    "    plt.plot(np.arange(iterations),cost_list[:iterations])\n",
    "    return W,b"
   ]
  },
  {
   "cell_type": "code",
   "execution_count": 164,
   "id": "afa75e2d",
   "metadata": {},
   "outputs": [
    {
     "name": "stdout",
     "output_type": "stream",
     "text": [
      "The Cost funtion will equal  0.5224739178469985\n",
      "the W  have reached equal  [2.15737916 2.15337916 2.39937916]\n",
      "the cost function is decrease\n",
      "The Accuracy of the model reach to  76.88442211055276\n",
      "The Cost funtion will equal  0.5105883409273845\n",
      "the W  have reached equal  [2.33760342 2.33360342 2.57960342]\n",
      "the cost function is decrease\n",
      "The Accuracy of the model reach to  89.19597989949749\n",
      "The Cost funtion will equal  0.5065585388358756\n",
      "the W  have reached equal  [2.40844703 2.40444703 2.65044703]\n",
      "the cost function is decrease\n",
      "The Accuracy of the model reach to  89.44723618090453\n",
      "The Cost funtion will equal  0.5026318092759314\n",
      "the W  have reached equal  [2.47476363 2.47076363 2.71676363]\n",
      "the cost function is decrease\n",
      "The Accuracy of the model reach to  89.69849246231156\n",
      "The Cost funtion will equal  0.4987959075922357\n",
      "the W  have reached equal  [2.54018512 2.53618512 2.78218512]\n",
      "the cost function is decrease\n",
      "The Accuracy of the model reach to  89.94974874371859\n",
      "The Cost funtion will equal  0.4950479247471463\n",
      "the W  have reached equal  [2.60485319 2.60085319 2.84685319]\n",
      "the cost function is decrease\n",
      "The Accuracy of the model reach to  89.94974874371859\n",
      "The Cost funtion will equal  0.49138506923799197\n",
      "the W  have reached equal  [2.66878765 2.66478765 2.91078765]\n",
      "the cost function is decrease\n",
      "The Accuracy of the model reach to  90.20100502512562\n",
      "The Cost funtion will equal  0.48780465231046605\n",
      "the W  have reached equal  [2.73200368 2.72800368 2.97400368]\n",
      "the cost function is decrease\n",
      "The Accuracy of the model reach to  90.20100502512562\n",
      "The Cost funtion will equal  0.4843040842717513\n",
      "the W  have reached equal  [2.7945159 2.7905159 3.0365159]\n",
      "the cost function is decrease\n",
      "The Accuracy of the model reach to  90.20100502512562\n",
      "The Cost funtion will equal  0.4808808708866834\n",
      "the W  have reached equal  [2.85633859 2.85233859 3.09833859]\n",
      "the cost function is decrease\n",
      "The Accuracy of the model reach to  90.20100502512562\n",
      "The Cost funtion will equal  0.47756572912010414\n",
      "the W  have reached equal  [2.91687751 2.91287751 3.15887751]\n",
      "the cost function is decrease\n",
      "The Accuracy of the model reach to  89.69849246231156\n"
     ]
    },
    {
     "data": {
      "image/png": "[encoded data removed]",
      "text/plain": [
       "<Figure size 640x480 with 1 Axes>"
      ]
     },
     "metadata": {},
     "output_type": "display_data"
    }
   ],
   "source": [
    "W,b=gradient_desent(X_train,Y_train,W,b,Alpha=0.04,iterations=1000)\n"
   ]
  },
  {
   "cell_type": "code",
   "execution_count": 165,
   "id": "9a326ea1",
   "metadata": {},
   "outputs": [
    {
     "data": {
      "text/plain": [
       "'test accuracy reach to 88.88888888888889'"
      ]
     },
     "execution_count": 165,
     "metadata": {},
     "output_type": "execute_result"
    }
   ],
   "source": [
    "f\"test accuracy reach to {test_accuracy(Y_test,X_test,W,b)}\""
   ]
  },
  {
   "cell_type": "code",
   "execution_count": null,
   "id": "cb32326b",
   "metadata": {},
   "outputs": [],
   "source": []
  }
 ],
 "metadata": {
  "kernelspec": {
   "display_name": "Python 3 (ipykernel)",
   "language": "python",
   "name": "python3"
  },
  "language_info": {
   "codemirror_mode": {
    "name": "ipython",
    "version": 3
   },
   "file_extension": ".py",
   "mimetype": "text/x-python",
   "name": "python",
   "nbconvert_exporter": "python",
   "pygments_lexer": "ipython3",
   "version": "3.10.6"
  }
 },
 "nbformat": 4,
 "nbformat_minor": 5
}
